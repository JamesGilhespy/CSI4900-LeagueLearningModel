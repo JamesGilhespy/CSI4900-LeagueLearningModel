{
 "cells": [
  {
   "cell_type": "code",
   "execution_count": 26,
   "metadata": {},
   "outputs": [],
   "source": [
    "import pandas as pd\n",
    "import numpy as np\n",
    "import matplotlib.pyplot as plt\n",
    "import sklearn\n",
    "%matplotlib inline\n",
    "\n",
    "data=pd.read_csv('C:/Users/ofbac/OneDrive/Desktop/League Machine Learning Model/Temp Dataset.csv')"
   ]
  },
  {
   "cell_type": "code",
   "execution_count": null,
   "metadata": {},
   "outputs": [],
   "source": []
  },
  {
   "cell_type": "code",
   "execution_count": 27,
   "metadata": {},
   "outputs": [],
   "source": [
    "X=data[['Red_Top_WR','Red_Top_Champion_XP','Red_Top_ChampWR','Red_JG_WR','Red_JG_ChampXP','Red_JG_ChampWR','Red_Mid_WR','Red_Mid_ChampXP','Red_Mid_ChampWR','Red_ADC_WR','Red_ADC_ChampXP','Red_ADC_ChampWR','Red_SUP_WR','Red_SUP_ChampXP','Red_SUP_ChampWR','Blue_TOP_WR','Blue_TOP_ChampXP','Blue_TOP_ChampWR','Blue_JG_WR','Blue_JG_ChampXP','Blue_JG_ChampWR','Blue_Mid_WR','Blue_Mid_ChampXP','Blue_Mid_ChampWR','Blue_ADC_WR','Blue_ADC_ChampXP','Blue_ADC_ChampWR','Blue_SUP_WR','Blue_SUP_ChampXP','Blue_SUP_ChampWR']]\n",
    "Y=data['Winning_Team']"
   ]
  },
  {
   "cell_type": "code",
   "execution_count": 28,
   "metadata": {},
   "outputs": [],
   "source": [
    "from sklearn.model_selection import train_test_split\n",
    "\n",
    "X_train, X_test, Y_train, Y_test = train_test_split(X, Y, test_size=0.2)"
   ]
  },
  {
   "cell_type": "code",
   "execution_count": 29,
   "metadata": {},
   "outputs": [],
   "source": [
    "from sklearn.ensemble import RandomForestClassifier\n",
    "\n",
    "\n",
    "clf=RandomForestClassifier(n_estimators=100)\n",
    "\n",
    "\n",
    "clf.fit(X_train,Y_train)\n",
    "\n",
    "Y_pred=clf.predict(X_test)"
   ]
  },
  {
   "cell_type": "code",
   "execution_count": 30,
   "metadata": {},
   "outputs": [
    {
     "name": "stdout",
     "output_type": "stream",
     "text": [
      "Accuracy: 0.5555555555555556\n"
     ]
    }
   ],
   "source": [
    "from sklearn import metrics\n",
    "\n",
    "print(\"Accuracy:\",metrics.accuracy_score(Y_test, Y_pred))"
   ]
  },
  {
   "cell_type": "code",
   "execution_count": null,
   "metadata": {},
   "outputs": [],
   "source": []
  },
  {
   "cell_type": "code",
   "execution_count": null,
   "metadata": {},
   "outputs": [],
   "source": []
  }
 ],
 "metadata": {
  "kernelspec": {
   "display_name": "Python 3",
   "language": "python",
   "name": "python3"
  },
  "language_info": {
   "codemirror_mode": {
    "name": "ipython",
    "version": 3
   },
   "file_extension": ".py",
   "mimetype": "text/x-python",
   "name": "python",
   "nbconvert_exporter": "python",
   "pygments_lexer": "ipython3",
   "version": "3.9.7"
  }
 },
 "nbformat": 4,
 "nbformat_minor": 4
}
