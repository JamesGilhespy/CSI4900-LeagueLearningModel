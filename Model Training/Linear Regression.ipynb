{
 "cells": [
  {
   "cell_type": "code",
   "execution_count": 2,
   "metadata": {},
   "outputs": [],
   "source": [
    "import pandas as pd\n",
    "import numpy as np\n",
    "import matplotlib.pyplot as plt\n",
    "%matplotlib inline"
   ]
  },
  {
   "cell_type": "code",
   "execution_count": 3,
   "metadata": {},
   "outputs": [],
   "source": [
    "#Change to your local directory\n",
    "data=pd.read_csv('C:/Users/ofbac/OneDrive/Desktop/League Machine Learning Model/Temp Dataset.csv')\n"
   ]
  },
  {
   "cell_type": "code",
   "execution_count": null,
   "metadata": {
    "scrolled": true
   },
   "outputs": [],
   "source": []
  },
  {
   "cell_type": "code",
   "execution_count": 4,
   "metadata": {},
   "outputs": [],
   "source": [
    "x=data[['Red_Top_WR','Red_Top_Champion_XP','Red_Top_ChampWR','Red_JG_WR','Red_JG_ChampXP','Red_JG_ChampWR','Red_Mid_WR','Red_Mid_ChampXP','Red_Mid_ChampWR','Red_ADC_WR','Red_ADC_ChampXP','Red_ADC_ChampWR','Red_SUP_WR','Red_SUP_ChampXP','Red_SUP_ChampWR','Blue_TOP_WR','Blue_TOP_ChampXP','Blue_TOP_ChampWR','Blue_JG_WR','Blue_JG_ChampXP','Blue_JG_ChampWR','Blue_Mid_WR','Blue_Mid_ChampXP','Blue_Mid_ChampWR','Blue_ADC_WR','Blue_ADC_ChampXP','Blue_ADC_ChampWR','Blue_SUP_WR','Blue_SUP_ChampXP','Blue_SUP_ChampWR']]\n",
    "y=data['Winning_Team']"
   ]
  },
  {
   "cell_type": "code",
   "execution_count": 5,
   "metadata": {},
   "outputs": [],
   "source": [
    "from sklearn.model_selection import train_test_split\n",
    "\n",
    "x_train, x_test, y_train, y_test = train_test_split(x, y, test_size = 0.2)"
   ]
  },
  {
   "cell_type": "code",
   "execution_count": 6,
   "metadata": {},
   "outputs": [
    {
     "data": {
      "text/plain": [
       "LinearRegression()"
      ]
     },
     "execution_count": 6,
     "metadata": {},
     "output_type": "execute_result"
    }
   ],
   "source": [
    "from sklearn.linear_model import LinearRegression\n",
    "\n",
    "model = LinearRegression()\n",
    "model.fit(x_train, y_train)\n"
   ]
  },
  {
   "cell_type": "code",
   "execution_count": 7,
   "metadata": {},
   "outputs": [
    {
     "data": {
      "text/html": [
       "<div>\n",
       "<style scoped>\n",
       "    .dataframe tbody tr th:only-of-type {\n",
       "        vertical-align: middle;\n",
       "    }\n",
       "\n",
       "    .dataframe tbody tr th {\n",
       "        vertical-align: top;\n",
       "    }\n",
       "\n",
       "    .dataframe thead th {\n",
       "        text-align: right;\n",
       "    }\n",
       "</style>\n",
       "<table border=\"1\" class=\"dataframe\">\n",
       "  <thead>\n",
       "    <tr style=\"text-align: right;\">\n",
       "      <th></th>\n",
       "      <th>Coeff</th>\n",
       "    </tr>\n",
       "  </thead>\n",
       "  <tbody>\n",
       "    <tr>\n",
       "      <th>Red_Top_WR</th>\n",
       "      <td>-0.007242</td>\n",
       "    </tr>\n",
       "    <tr>\n",
       "      <th>Red_Top_Champion_XP</th>\n",
       "      <td>0.018843</td>\n",
       "    </tr>\n",
       "    <tr>\n",
       "      <th>Red_Top_ChampWR</th>\n",
       "      <td>-0.038971</td>\n",
       "    </tr>\n",
       "    <tr>\n",
       "      <th>Red_JG_WR</th>\n",
       "      <td>0.011466</td>\n",
       "    </tr>\n",
       "    <tr>\n",
       "      <th>Red_JG_ChampXP</th>\n",
       "      <td>0.044548</td>\n",
       "    </tr>\n",
       "    <tr>\n",
       "      <th>Red_JG_ChampWR</th>\n",
       "      <td>-0.023052</td>\n",
       "    </tr>\n",
       "    <tr>\n",
       "      <th>Red_Mid_WR</th>\n",
       "      <td>-0.022277</td>\n",
       "    </tr>\n",
       "    <tr>\n",
       "      <th>Red_Mid_ChampXP</th>\n",
       "      <td>0.008668</td>\n",
       "    </tr>\n",
       "    <tr>\n",
       "      <th>Red_Mid_ChampWR</th>\n",
       "      <td>-0.028940</td>\n",
       "    </tr>\n",
       "    <tr>\n",
       "      <th>Red_ADC_WR</th>\n",
       "      <td>-0.007204</td>\n",
       "    </tr>\n",
       "    <tr>\n",
       "      <th>Red_ADC_ChampXP</th>\n",
       "      <td>-0.013656</td>\n",
       "    </tr>\n",
       "    <tr>\n",
       "      <th>Red_ADC_ChampWR</th>\n",
       "      <td>-0.023282</td>\n",
       "    </tr>\n",
       "    <tr>\n",
       "      <th>Red_SUP_WR</th>\n",
       "      <td>0.003230</td>\n",
       "    </tr>\n",
       "    <tr>\n",
       "      <th>Red_SUP_ChampXP</th>\n",
       "      <td>0.033096</td>\n",
       "    </tr>\n",
       "    <tr>\n",
       "      <th>Red_SUP_ChampWR</th>\n",
       "      <td>0.029304</td>\n",
       "    </tr>\n",
       "    <tr>\n",
       "      <th>Blue_TOP_WR</th>\n",
       "      <td>-0.010848</td>\n",
       "    </tr>\n",
       "    <tr>\n",
       "      <th>Blue_TOP_ChampXP</th>\n",
       "      <td>-0.050505</td>\n",
       "    </tr>\n",
       "    <tr>\n",
       "      <th>Blue_TOP_ChampWR</th>\n",
       "      <td>0.020482</td>\n",
       "    </tr>\n",
       "    <tr>\n",
       "      <th>Blue_JG_WR</th>\n",
       "      <td>-0.000891</td>\n",
       "    </tr>\n",
       "    <tr>\n",
       "      <th>Blue_JG_ChampXP</th>\n",
       "      <td>-0.030282</td>\n",
       "    </tr>\n",
       "    <tr>\n",
       "      <th>Blue_JG_ChampWR</th>\n",
       "      <td>-0.015383</td>\n",
       "    </tr>\n",
       "    <tr>\n",
       "      <th>Blue_Mid_WR</th>\n",
       "      <td>-0.013468</td>\n",
       "    </tr>\n",
       "    <tr>\n",
       "      <th>Blue_Mid_ChampXP</th>\n",
       "      <td>0.003557</td>\n",
       "    </tr>\n",
       "    <tr>\n",
       "      <th>Blue_Mid_ChampWR</th>\n",
       "      <td>-0.002222</td>\n",
       "    </tr>\n",
       "    <tr>\n",
       "      <th>Blue_ADC_WR</th>\n",
       "      <td>-0.004472</td>\n",
       "    </tr>\n",
       "    <tr>\n",
       "      <th>Blue_ADC_ChampXP</th>\n",
       "      <td>-0.013656</td>\n",
       "    </tr>\n",
       "    <tr>\n",
       "      <th>Blue_ADC_ChampWR</th>\n",
       "      <td>0.007573</td>\n",
       "    </tr>\n",
       "    <tr>\n",
       "      <th>Blue_SUP_WR</th>\n",
       "      <td>0.004891</td>\n",
       "    </tr>\n",
       "    <tr>\n",
       "      <th>Blue_SUP_ChampXP</th>\n",
       "      <td>0.009969</td>\n",
       "    </tr>\n",
       "    <tr>\n",
       "      <th>Blue_SUP_ChampWR</th>\n",
       "      <td>0.032586</td>\n",
       "    </tr>\n",
       "  </tbody>\n",
       "</table>\n",
       "</div>"
      ],
      "text/plain": [
       "                        Coeff\n",
       "Red_Top_WR          -0.007242\n",
       "Red_Top_Champion_XP  0.018843\n",
       "Red_Top_ChampWR     -0.038971\n",
       "Red_JG_WR            0.011466\n",
       "Red_JG_ChampXP       0.044548\n",
       "Red_JG_ChampWR      -0.023052\n",
       "Red_Mid_WR          -0.022277\n",
       "Red_Mid_ChampXP      0.008668\n",
       "Red_Mid_ChampWR     -0.028940\n",
       "Red_ADC_WR          -0.007204\n",
       "Red_ADC_ChampXP     -0.013656\n",
       "Red_ADC_ChampWR     -0.023282\n",
       "Red_SUP_WR           0.003230\n",
       "Red_SUP_ChampXP      0.033096\n",
       "Red_SUP_ChampWR      0.029304\n",
       "Blue_TOP_WR         -0.010848\n",
       "Blue_TOP_ChampXP    -0.050505\n",
       "Blue_TOP_ChampWR     0.020482\n",
       "Blue_JG_WR          -0.000891\n",
       "Blue_JG_ChampXP     -0.030282\n",
       "Blue_JG_ChampWR     -0.015383\n",
       "Blue_Mid_WR         -0.013468\n",
       "Blue_Mid_ChampXP     0.003557\n",
       "Blue_Mid_ChampWR    -0.002222\n",
       "Blue_ADC_WR         -0.004472\n",
       "Blue_ADC_ChampXP    -0.013656\n",
       "Blue_ADC_ChampWR     0.007573\n",
       "Blue_SUP_WR          0.004891\n",
       "Blue_SUP_ChampXP     0.009969\n",
       "Blue_SUP_ChampWR     0.032586"
      ]
     },
     "execution_count": 7,
     "metadata": {},
     "output_type": "execute_result"
    }
   ],
   "source": [
    "pd.DataFrame(model.coef_, x.columns, columns = ['Coeff'])"
   ]
  },
  {
   "cell_type": "code",
   "execution_count": 8,
   "metadata": {},
   "outputs": [
    {
     "data": {
      "text/plain": [
       "0.6711285861816938"
      ]
     },
     "execution_count": 8,
     "metadata": {},
     "output_type": "execute_result"
    },
    {
     "data": {
      "image/png": "[encoded data removed]",
      "text/plain": [
       "<Figure size 432x288 with 1 Axes>"
      ]
     },
     "metadata": {
      "needs_background": "light"
     },
     "output_type": "display_data"
    }
   ],
   "source": [
    "from sklearn import metrics\n",
    "\n",
    "predictions = model.predict(x_test)\n",
    "plt.scatter(y_test, predictions)\n",
    "\n",
    "metrics.mean_absolute_error(y_test, predictions)\n",
    "metrics.mean_squared_error(y_test, predictions)\n",
    "np.sqrt(metrics.mean_squared_error(y_test, predictions))"
   ]
  },
  {
   "cell_type": "code",
   "execution_count": null,
   "metadata": {},
   "outputs": [],
   "source": []
  },
  {
   "cell_type": "code",
   "execution_count": null,
   "metadata": {},
   "outputs": [],
   "source": []
  }
 ],
 "metadata": {
  "kernelspec": {
   "display_name": "Python 3",
   "language": "python",
   "name": "python3"
  },
  "language_info": {
   "codemirror_mode": {
    "name": "ipython",
    "version": 3
   },
   "file_extension": ".py",
   "mimetype": "text/x-python",
   "name": "python",
   "nbconvert_exporter": "python",
   "pygments_lexer": "ipython3",
   "version": "3.9.7"
  }
 },
 "nbformat": 4,
 "nbformat_minor": 4
}
