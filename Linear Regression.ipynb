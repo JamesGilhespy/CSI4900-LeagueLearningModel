{
 "cells": [
  {
   "cell_type": "code",
   "execution_count": 1,
   "metadata": {},
   "outputs": [],
   "source": [
    "import pandas as pd\n",
    "import numpy as np\n",
    "import matplotlib.pyplot as plt\n",
    "%matplotlib inline"
   ]
  },
  {
   "cell_type": "code",
   "execution_count": 2,
   "metadata": {},
   "outputs": [],
   "source": [
    "#Change to your local directory\n",
    "train_data=pd.read_csv('C:/Users/ofbac/OneDrive/Desktop/League Machine Learning Model/test1.csv')\n",
    "test_data=pd.read_csv('C:/Users/ofbac/OneDrive/Desktop/League Machine Learning Model/test2.csv')"
   ]
  },
  {
   "cell_type": "code",
   "execution_count": 3,
   "metadata": {
    "scrolled": true
   },
   "outputs": [
    {
     "name": "stdout",
     "output_type": "stream",
     "text": [
      "<class 'pandas.core.frame.DataFrame'>\n",
      "RangeIndex: 90 entries, 0 to 89\n",
      "Data columns (total 31 columns):\n",
      " #   Column               Non-Null Count  Dtype  \n",
      "---  ------               --------------  -----  \n",
      " 0   Red_Top_WR           90 non-null     float64\n",
      " 1   Red_Top_Champion_XP  90 non-null     int64  \n",
      " 2   Red_Top_ChampWR      90 non-null     float64\n",
      " 3   Red_JG_WR            90 non-null     float64\n",
      " 4   Red_JG_ChampXP       90 non-null     int64  \n",
      " 5   Red_JG_ChampWR       90 non-null     float64\n",
      " 6   Red_Mid_WR           90 non-null     float64\n",
      " 7   Red_Mid_ChampXP      90 non-null     int64  \n",
      " 8   Red_Mid_ChampWR      90 non-null     float64\n",
      " 9   Red_ADC_WR           90 non-null     float64\n",
      " 10  Red_ADC_ChampXP      90 non-null     int64  \n",
      " 11  Red_ADC_ChampWR      90 non-null     float64\n",
      " 12  Red_SUP_WR           90 non-null     float64\n",
      " 13  Red_SUP_ChampXP      90 non-null     int64  \n",
      " 14  Red_SUP_ChampWR      90 non-null     float64\n",
      " 15  Blue_TOP_WR          90 non-null     float64\n",
      " 16  Blue_TOP_ChampXP     90 non-null     int64  \n",
      " 17  Blue_TOP_ChampWR     90 non-null     float64\n",
      " 18  Blue_JG_WR           90 non-null     float64\n",
      " 19  Blue_JG_ChampXP      90 non-null     int64  \n",
      " 20  Blue_JG_ChampWR      90 non-null     float64\n",
      " 21  Blue_Mid_WR          90 non-null     float64\n",
      " 22  Blue_Mid_ChampXP     90 non-null     int64  \n",
      " 23  Blue_Mid_ChampWR     90 non-null     float64\n",
      " 24  Blue_ADC_WR          90 non-null     float64\n",
      " 25  Blue_ADC_ChampXP     90 non-null     int64  \n",
      " 26  Blue_ADC_ChampWR     90 non-null     float64\n",
      " 27  Blue_SUP_WR          90 non-null     float64\n",
      " 28  Blue_SUP_ChampXP     90 non-null     int64  \n",
      " 29  Blue_SUP_ChampWR     90 non-null     float64\n",
      " 30  Winning_Team         90 non-null     int64  \n",
      "dtypes: float64(20), int64(11)\n",
      "memory usage: 21.9 KB\n",
      "<class 'pandas.core.frame.DataFrame'>\n",
      "RangeIndex: 10 entries, 0 to 9\n",
      "Data columns (total 31 columns):\n",
      " #   Column               Non-Null Count  Dtype  \n",
      "---  ------               --------------  -----  \n",
      " 0   Red_Top_WR           10 non-null     float64\n",
      " 1   Red_Top_Champion_XP  10 non-null     int64  \n",
      " 2   Red_Top_ChampWR      10 non-null     object \n",
      " 3   Red_JG_WR            10 non-null     float64\n",
      " 4   Red_JG_ChampXP       10 non-null     int64  \n",
      " 5   Red_JG_ChampWR       10 non-null     object \n",
      " 6   Red_Mid_WR           10 non-null     float64\n",
      " 7   Red_Mid_ChampXP      10 non-null     int64  \n",
      " 8   Red_Mid_ChampWR      10 non-null     object \n",
      " 9   Red_ADC_WR           10 non-null     float64\n",
      " 10  Red_ADC_ChampXP      10 non-null     int64  \n",
      " 11  Red_ADC_ChampWR      10 non-null     object \n",
      " 12  Red_SUP_WR           10 non-null     float64\n",
      " 13  Red_SUP_ChampXP      10 non-null     int64  \n",
      " 14  Red_SUP_ChampWR      10 non-null     object \n",
      " 15  Blue_TOP_WR          10 non-null     float64\n",
      " 16  Blue_TOP_ChampXP     10 non-null     int64  \n",
      " 17  Blue_TOP_ChampWR     10 non-null     object \n",
      " 18  Blue_JG_WR           10 non-null     float64\n",
      " 19  Blue_JG_ChampXP      10 non-null     int64  \n",
      " 20  Blue_JG_ChampWR      10 non-null     object \n",
      " 21  Blue_Mid_WR          10 non-null     float64\n",
      " 22  Blue_Mid_ChampXP     10 non-null     int64  \n",
      " 23  Blue_Mid_ChampWR     10 non-null     object \n",
      " 24  Blue_ADC_WR          10 non-null     float64\n",
      " 25  Blue_ADC_ChampXP     10 non-null     int64  \n",
      " 26  Blue_ADC_ChampWR     10 non-null     object \n",
      " 27  Blue_SUP_WR          10 non-null     float64\n",
      " 28  Blue_SUP_ChampXP     10 non-null     int64  \n",
      " 29  Blue_SUP_ChampWR     10 non-null     object \n",
      " 30  Winning_Team         10 non-null     object \n",
      "dtypes: float64(10), int64(10), object(11)\n",
      "memory usage: 2.5+ KB\n"
     ]
    }
   ],
   "source": [
    "train_data.info()\n",
    "test_data.info()"
   ]
  },
  {
   "cell_type": "code",
   "execution_count": 4,
   "metadata": {},
   "outputs": [],
   "source": [
    "x=train_data[['Red_Top_WR','Red_Top_Champion_XP','Red_Top_ChampWR','Red_JG_WR','Red_JG_ChampXP','Red_JG_ChampWR','Red_Mid_WR','Red_Mid_ChampXP','Red_Mid_ChampWR','Red_ADC_WR','Red_ADC_ChampXP','Red_ADC_ChampWR','Red_SUP_WR','Red_SUP_ChampXP','Red_SUP_ChampWR','Blue_TOP_WR','Blue_TOP_ChampXP','Blue_TOP_ChampWR','Blue_JG_WR','Blue_JG_ChampXP','Blue_JG_ChampWR','Blue_Mid_WR','Blue_Mid_ChampXP','Blue_Mid_ChampWR','Blue_ADC_WR','Blue_ADC_ChampXP','Blue_ADC_ChampWR','Blue_SUP_WR','Blue_SUP_ChampXP','Blue_SUP_ChampWR']]\n",
    "y=train_data['Winning_Team']"
   ]
  },
  {
   "cell_type": "code",
   "execution_count": 5,
   "metadata": {},
   "outputs": [],
   "source": [
    "from sklearn.model_selection import train_test_split\n",
    "\n",
    "x_train, x_test, y_train, y_test = train_test_split(x, y, test_size = 0.2)"
   ]
  },
  {
   "cell_type": "code",
   "execution_count": 6,
   "metadata": {},
   "outputs": [
    {
     "data": {
      "text/plain": [
       "LinearRegression()"
      ]
     },
     "execution_count": 6,
     "metadata": {},
     "output_type": "execute_result"
    }
   ],
   "source": [
    "from sklearn.linear_model import LinearRegression\n",
    "\n",
    "model = LinearRegression()\n",
    "model.fit(x_train, y_train)\n"
   ]
  },
  {
   "cell_type": "code",
   "execution_count": 7,
   "metadata": {},
   "outputs": [
    {
     "data": {
      "text/html": [
       "<div>\n",
       "<style scoped>\n",
       "    .dataframe tbody tr th:only-of-type {\n",
       "        vertical-align: middle;\n",
       "    }\n",
       "\n",
       "    .dataframe tbody tr th {\n",
       "        vertical-align: top;\n",
       "    }\n",
       "\n",
       "    .dataframe thead th {\n",
       "        text-align: right;\n",
       "    }\n",
       "</style>\n",
       "<table border=\"1\" class=\"dataframe\">\n",
       "  <thead>\n",
       "    <tr style=\"text-align: right;\">\n",
       "      <th></th>\n",
       "      <th>Coeff</th>\n",
       "    </tr>\n",
       "  </thead>\n",
       "  <tbody>\n",
       "    <tr>\n",
       "      <th>Red_Top_WR</th>\n",
       "      <td>0.003760</td>\n",
       "    </tr>\n",
       "    <tr>\n",
       "      <th>Red_Top_Champion_XP</th>\n",
       "      <td>0.007877</td>\n",
       "    </tr>\n",
       "    <tr>\n",
       "      <th>Red_Top_ChampWR</th>\n",
       "      <td>-0.022657</td>\n",
       "    </tr>\n",
       "    <tr>\n",
       "      <th>Red_JG_WR</th>\n",
       "      <td>0.006042</td>\n",
       "    </tr>\n",
       "    <tr>\n",
       "      <th>Red_JG_ChampXP</th>\n",
       "      <td>0.019772</td>\n",
       "    </tr>\n",
       "    <tr>\n",
       "      <th>Red_JG_ChampWR</th>\n",
       "      <td>-0.035564</td>\n",
       "    </tr>\n",
       "    <tr>\n",
       "      <th>Red_Mid_WR</th>\n",
       "      <td>-0.011502</td>\n",
       "    </tr>\n",
       "    <tr>\n",
       "      <th>Red_Mid_ChampXP</th>\n",
       "      <td>0.015657</td>\n",
       "    </tr>\n",
       "    <tr>\n",
       "      <th>Red_Mid_ChampWR</th>\n",
       "      <td>-0.034216</td>\n",
       "    </tr>\n",
       "    <tr>\n",
       "      <th>Red_ADC_WR</th>\n",
       "      <td>-0.004091</td>\n",
       "    </tr>\n",
       "    <tr>\n",
       "      <th>Red_ADC_ChampXP</th>\n",
       "      <td>0.000925</td>\n",
       "    </tr>\n",
       "    <tr>\n",
       "      <th>Red_ADC_ChampWR</th>\n",
       "      <td>-0.037346</td>\n",
       "    </tr>\n",
       "    <tr>\n",
       "      <th>Red_SUP_WR</th>\n",
       "      <td>0.002958</td>\n",
       "    </tr>\n",
       "    <tr>\n",
       "      <th>Red_SUP_ChampXP</th>\n",
       "      <td>0.047064</td>\n",
       "    </tr>\n",
       "    <tr>\n",
       "      <th>Red_SUP_ChampWR</th>\n",
       "      <td>0.060119</td>\n",
       "    </tr>\n",
       "    <tr>\n",
       "      <th>Blue_TOP_WR</th>\n",
       "      <td>-0.003815</td>\n",
       "    </tr>\n",
       "    <tr>\n",
       "      <th>Blue_TOP_ChampXP</th>\n",
       "      <td>-0.014918</td>\n",
       "    </tr>\n",
       "    <tr>\n",
       "      <th>Blue_TOP_ChampWR</th>\n",
       "      <td>0.012993</td>\n",
       "    </tr>\n",
       "    <tr>\n",
       "      <th>Blue_JG_WR</th>\n",
       "      <td>-0.008960</td>\n",
       "    </tr>\n",
       "    <tr>\n",
       "      <th>Blue_JG_ChampXP</th>\n",
       "      <td>-0.016179</td>\n",
       "    </tr>\n",
       "    <tr>\n",
       "      <th>Blue_JG_ChampWR</th>\n",
       "      <td>-0.046643</td>\n",
       "    </tr>\n",
       "    <tr>\n",
       "      <th>Blue_Mid_WR</th>\n",
       "      <td>-0.025985</td>\n",
       "    </tr>\n",
       "    <tr>\n",
       "      <th>Blue_Mid_ChampXP</th>\n",
       "      <td>-0.007588</td>\n",
       "    </tr>\n",
       "    <tr>\n",
       "      <th>Blue_Mid_ChampWR</th>\n",
       "      <td>0.015467</td>\n",
       "    </tr>\n",
       "    <tr>\n",
       "      <th>Blue_ADC_WR</th>\n",
       "      <td>-0.008100</td>\n",
       "    </tr>\n",
       "    <tr>\n",
       "      <th>Blue_ADC_ChampXP</th>\n",
       "      <td>0.000925</td>\n",
       "    </tr>\n",
       "    <tr>\n",
       "      <th>Blue_ADC_ChampWR</th>\n",
       "      <td>0.022602</td>\n",
       "    </tr>\n",
       "    <tr>\n",
       "      <th>Blue_SUP_WR</th>\n",
       "      <td>0.014641</td>\n",
       "    </tr>\n",
       "    <tr>\n",
       "      <th>Blue_SUP_ChampXP</th>\n",
       "      <td>-0.032779</td>\n",
       "    </tr>\n",
       "    <tr>\n",
       "      <th>Blue_SUP_ChampWR</th>\n",
       "      <td>0.011054</td>\n",
       "    </tr>\n",
       "  </tbody>\n",
       "</table>\n",
       "</div>"
      ],
      "text/plain": [
       "                        Coeff\n",
       "Red_Top_WR           0.003760\n",
       "Red_Top_Champion_XP  0.007877\n",
       "Red_Top_ChampWR     -0.022657\n",
       "Red_JG_WR            0.006042\n",
       "Red_JG_ChampXP       0.019772\n",
       "Red_JG_ChampWR      -0.035564\n",
       "Red_Mid_WR          -0.011502\n",
       "Red_Mid_ChampXP      0.015657\n",
       "Red_Mid_ChampWR     -0.034216\n",
       "Red_ADC_WR          -0.004091\n",
       "Red_ADC_ChampXP      0.000925\n",
       "Red_ADC_ChampWR     -0.037346\n",
       "Red_SUP_WR           0.002958\n",
       "Red_SUP_ChampXP      0.047064\n",
       "Red_SUP_ChampWR      0.060119\n",
       "Blue_TOP_WR         -0.003815\n",
       "Blue_TOP_ChampXP    -0.014918\n",
       "Blue_TOP_ChampWR     0.012993\n",
       "Blue_JG_WR          -0.008960\n",
       "Blue_JG_ChampXP     -0.016179\n",
       "Blue_JG_ChampWR     -0.046643\n",
       "Blue_Mid_WR         -0.025985\n",
       "Blue_Mid_ChampXP    -0.007588\n",
       "Blue_Mid_ChampWR     0.015467\n",
       "Blue_ADC_WR         -0.008100\n",
       "Blue_ADC_ChampXP     0.000925\n",
       "Blue_ADC_ChampWR     0.022602\n",
       "Blue_SUP_WR          0.014641\n",
       "Blue_SUP_ChampXP    -0.032779\n",
       "Blue_SUP_ChampWR     0.011054"
      ]
     },
     "execution_count": 7,
     "metadata": {},
     "output_type": "execute_result"
    }
   ],
   "source": [
    "pd.DataFrame(model.coef_, x.columns, columns = ['Coeff'])"
   ]
  },
  {
   "cell_type": "code",
   "execution_count": 8,
   "metadata": {},
   "outputs": [
    {
     "data": {
      "text/plain": [
       "0.6919981958684043"
      ]
     },
     "execution_count": 8,
     "metadata": {},
     "output_type": "execute_result"
    },
    {
     "data": {
      "image/png": "[encoded data removed]",
      "text/plain": [
       "<Figure size 432x288 with 1 Axes>"
      ]
     },
     "metadata": {
      "needs_background": "light"
     },
     "output_type": "display_data"
    }
   ],
   "source": [
    "from sklearn import metrics\n",
    "\n",
    "predictions = model.predict(x_test)\n",
    "plt.scatter(y_test, predictions)\n",
    "\n",
    "metrics.mean_absolute_error(y_test, predictions)\n",
    "metrics.mean_squared_error(y_test, predictions)\n",
    "np.sqrt(metrics.mean_squared_error(y_test, predictions))"
   ]
  },
  {
   "cell_type": "code",
   "execution_count": null,
   "metadata": {},
   "outputs": [],
   "source": []
  },
  {
   "cell_type": "code",
   "execution_count": null,
   "metadata": {},
   "outputs": [],
   "source": []
  }
 ],
 "metadata": {
  "kernelspec": {
   "display_name": "Python 3",
   "language": "python",
   "name": "python3"
  },
  "language_info": {
   "codemirror_mode": {
    "name": "ipython",
    "version": 3
   },
   "file_extension": ".py",
   "mimetype": "text/x-python",
   "name": "python",
   "nbconvert_exporter": "python",
   "pygments_lexer": "ipython3",
   "version": "3.9.7"
  }
 },
 "nbformat": 4,
 "nbformat_minor": 4
}
